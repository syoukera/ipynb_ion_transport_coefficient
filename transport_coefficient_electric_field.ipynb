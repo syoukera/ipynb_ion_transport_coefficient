{
 "cells": [
  {
   "cell_type": "code",
   "execution_count": 1,
   "source": [
    "import numpy as np\r\n",
    "import cantera as ct"
   ],
   "outputs": [],
   "metadata": {}
  },
  {
   "cell_type": "code",
   "execution_count": 2,
   "source": [
    "num_species = 53\r\n",
    "\r\n",
    "# terget\r\n",
    "J = np.zeros(num_species)\r\n",
    "\r\n",
    "# properties from cantera\r\n",
    "D = np.zeros(num_species)\r\n",
    "D_bi = np.zeros((num_species, num_species))\r\n",
    "\r\n",
    "# properties from table\r\n",
    "q = np.zeros(num_species)\r\n",
    "\r\n",
    "# properties obtained from (n, 6, 4) potential\r\n",
    "mu = np.zeros(num_species)\r\n",
    "mu_bi = np.zeros((num_species, num_species))\r\n",
    "\r\n",
    "# state value of simulation\r\n",
    "n = np.zeros(num_species)\r\n",
    "\r\n",
    "# parameter of simulation\r\n",
    "E = 100"
   ],
   "outputs": [],
   "metadata": {}
  },
  {
   "cell_type": "code",
   "execution_count": null,
   "source": [
    "# (n, 6, 4) potential\r\n",
    "def phi_n64(r):\r\n",
    "\r\n",
    "    # parameters\r\n",
    "    K1 = 1.767\r\n",
    "    K2 = 0.72\r\n",
    "    kappa = 0.095\r\n",
    "\r\n",
    "    # (19)\r\n",
    "    C6_i = np.zeros(num_species)\r\n",
    "    for i in range(num_species):\r\n",
    "        C6_i[i] = 3*np.pi*epsilon_0*alpha[i]**2*I_e[i]\r\n",
    "\r\n",
    "    # (20)\r\n",
    "    alpha_q[i] = 2*C6_i[i]/e**2\r\n",
    "\r\n",
    "    # (17)\r\n",
    "    xi = np.zeros((num_species, num_species))\r\n",
    "    for i in range(num_species):\r\n",
    "        for j in range(num_species):\r\n",
    "            xi[i, j] = alpha[i]/(q[i]**2*(1 + (2*alpha[i]/alpha[j])**(2/3))*alpha[j]**0.5)\r\n",
    "\r\n",
    "    # (18)\r\n",
    "    sigma = np.zeros((num_species, num_species))\r\n",
    "    for i in range(num_species):\r\n",
    "        for j in range(num_species):\r\n",
    "            sigma[i, j] = K1*(alpha[i]**(1/3) + alpha[j]**(1/3))/(alpha[i]*alpha[j]*(1 + 1/xi[i,j]))**kappa\r\n",
    "\r\n",
    "    # (16)\r\n",
    "    C6 = np.zeros((num_species, num_species))\r\n",
    "    for i in range(num_species):\r\n",
    "        for j in range(num_species):\r\n",
    "            C6[i, j] = 2*C6_i[i]*C6_i[j]/((alpha[j]/alpha[i])*C6_i[i] + (alpha[i]/alpha[j])*C6_i[j])\r\n",
    "\r\n",
    "    # (15)\r\n",
    "    epsilon = np.zeros((num_species, num_species))\r\n",
    "    for i in range(num_species):\r\n",
    "        for j in range(num_species):\r\n",
    "            epsilon[i, j] = K2*(alpha[j]*q[i]**2*e**2/(8*np.pi*epsilon_0*sigma[i, j]**4))*(1 + xi[i, j])\r\n",
    "\r\n",
    "    # (14)\r\n",
    "    gamma = np.zeros((num_species, num_species))\r\n",
    "    for i in range(num_species):\r\n",
    "        for j in range(num_species):\r\n",
    "            gamma[i, j] = (2/q[i]**2/(C6[i, j]/e**2) * alpha[q, j])/(alpha[j]*sigma[i, j]**2)\r\n",
    "\r\n",
    "    # (13)\r\n",
    "    phi_0 = N*epsilon[i,j]/(N*(3 + gamma[i,j] - 12*(1 + gamma[i,j])))\r\n",
    "\r\n",
    "    # (12)\r\n",
    "    phi = phi_0*(\r\n",
    "        12/N*(1+gamma[i,j])*(sigma[i, j]/r)**n\r\n",
    "        + 4*gamma[i, j]*(sigma[i, j]/r)**6\r\n",
    "        - 3*(1 - gamma[i, j])(sigma[i, j]/r)**4\r\n",
    "        )\r\n",
    "\r\n",
    "\r\n",
    "    return phi"
   ],
   "outputs": [],
   "metadata": {}
  },
  {
   "cell_type": "code",
   "execution_count": null,
   "source": [
    "i = 0\r\n",
    "J[i] = -D[i]*Nabla(n[i]) + q[i]/np.abs(q[i])*mu[i]*E*n[i]"
   ],
   "outputs": [],
   "metadata": {}
  }
 ],
 "metadata": {
  "kernelspec": {
   "name": "python3",
   "display_name": "Python 3.9.6 64-bit ('cantera': conda)"
  },
  "language_info": {
   "codemirror_mode": {
    "name": "ipython",
    "version": 3
   },
   "file_extension": ".py",
   "mimetype": "text/x-python",
   "name": "python",
   "nbconvert_exporter": "python",
   "pygments_lexer": "ipython3",
   "version": "3.9.6"
  },
  "interpreter": {
   "hash": "1635d9291db09a2eeab95dfc9324b984173ddb0eb06d7df4ba39d53150a3b53f"
  }
 },
 "nbformat": 4,
 "nbformat_minor": 5
}