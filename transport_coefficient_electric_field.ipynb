{
 "cells": [
  {
   "cell_type": "code",
   "execution_count": 2,
   "source": [
    "import numpy as np"
   ],
   "outputs": [],
   "metadata": {}
  },
  {
   "cell_type": "code",
   "execution_count": 3,
   "source": [
    "num_species = 53\r\n",
    "\r\n",
    "J = np.zeros(num_species)\r\n",
    "D = np.zeros(num_species)\r\n",
    "n = np.zeros(num_species)\r\n",
    "q = np.zeros(num_species)\r\n",
    "mu = np.zeros(num_species)\r\n",
    "\r\n",
    "E = 100"
   ],
   "outputs": [],
   "metadata": {}
  },
  {
   "cell_type": "code",
   "execution_count": null,
   "source": [
    "J[i] = -D[i]*Nabla(n[i]) + q[i]/np.abs(q[i])*mu[i]*E*n[i]"
   ],
   "outputs": [],
   "metadata": {}
  }
 ],
 "metadata": {
  "kernelspec": {
   "name": "python3",
   "display_name": "Python 3.9.6 64-bit ('cantera': conda)"
  },
  "language_info": {
   "codemirror_mode": {
    "name": "ipython",
    "version": 3
   },
   "file_extension": ".py",
   "mimetype": "text/x-python",
   "name": "python",
   "nbconvert_exporter": "python",
   "pygments_lexer": "ipython3",
   "version": "3.9.6"
  },
  "interpreter": {
   "hash": "1635d9291db09a2eeab95dfc9324b984173ddb0eb06d7df4ba39d53150a3b53f"
  }
 },
 "nbformat": 4,
 "nbformat_minor": 5
}